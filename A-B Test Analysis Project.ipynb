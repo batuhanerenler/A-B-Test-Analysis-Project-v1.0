{
 "cells": [
  {
   "cell_type": "code",
   "execution_count": 1,
   "id": "95120155-23fa-4fbb-a4c9-a7898cae0cf8",
   "metadata": {},
   "outputs": [],
   "source": [
    "import itertools\n",
    "import numpy as np\n",
    "import pandas as pd \n",
    "import matplotlib.pyplot as plt \n",
    "import seaborn as sns \n",
    "import statsmodels.stats.api as sms\n",
    "from scipy.stats import ttest_1samp,levene,shapiro,ttest_ind,mannwhitneyu,pearsonr,spearmanr,kendalltau,f_oneway,kruskal\n",
    "from statsmodels.stats.proportion import proportions_ztest \n"
   ]
  },
  {
   "cell_type": "code",
   "execution_count": 2,
   "id": "c70c72b1-d787-4d5e-b3fb-d9fcf8f8d926",
   "metadata": {},
   "outputs": [],
   "source": [
    "df = pd.DataFrame()"
   ]
  },
  {
   "cell_type": "code",
   "execution_count": 4,
   "id": "e02b1a42-32b6-44d6-80e5-f2c971d123c4",
   "metadata": {},
   "outputs": [],
   "source": [
    "df_control = pd.read_excel('ab_testing.xlsx', sheet_name = 'Control Group')\n",
    "df_test = pd.read_excel('ab_testing.xlsx', sheet_name = 'Test Group')"
   ]
  },
  {
   "cell_type": "code",
   "execution_count": 7,
   "id": "1a664c65-8bbb-4033-8c33-3f1f690e3b87",
   "metadata": {},
   "outputs": [],
   "source": [
    "df[\"cont_purchase\"] = df_control[\"Purchase\"]"
   ]
  },
  {
   "cell_type": "code",
   "execution_count": 8,
   "id": "7ec8e632-cc99-4ace-b290-e2182ef7473f",
   "metadata": {},
   "outputs": [],
   "source": [
    "df[\"test_purchase\"] = df_test[\"Purchase\"]"
   ]
  },
  {
   "cell_type": "code",
   "execution_count": 9,
   "id": "4d2c1a19-c0eb-4526-b77b-bc6ebb826ad7",
   "metadata": {},
   "outputs": [
    {
     "data": {
      "text/html": [
       "<div>\n",
       "<style scoped>\n",
       "    .dataframe tbody tr th:only-of-type {\n",
       "        vertical-align: middle;\n",
       "    }\n",
       "\n",
       "    .dataframe tbody tr th {\n",
       "        vertical-align: top;\n",
       "    }\n",
       "\n",
       "    .dataframe thead th {\n",
       "        text-align: right;\n",
       "    }\n",
       "</style>\n",
       "<table border=\"1\" class=\"dataframe\">\n",
       "  <thead>\n",
       "    <tr style=\"text-align: right;\">\n",
       "      <th></th>\n",
       "      <th>cont_purchase</th>\n",
       "      <th>test_purchase</th>\n",
       "    </tr>\n",
       "  </thead>\n",
       "  <tbody>\n",
       "    <tr>\n",
       "      <th>0</th>\n",
       "      <td>665.211255</td>\n",
       "      <td>702.160346</td>\n",
       "    </tr>\n",
       "    <tr>\n",
       "      <th>1</th>\n",
       "      <td>315.084895</td>\n",
       "      <td>834.054286</td>\n",
       "    </tr>\n",
       "    <tr>\n",
       "      <th>2</th>\n",
       "      <td>458.083738</td>\n",
       "      <td>422.934258</td>\n",
       "    </tr>\n",
       "    <tr>\n",
       "      <th>3</th>\n",
       "      <td>487.090773</td>\n",
       "      <td>429.033535</td>\n",
       "    </tr>\n",
       "    <tr>\n",
       "      <th>4</th>\n",
       "      <td>441.034050</td>\n",
       "      <td>749.860442</td>\n",
       "    </tr>\n",
       "  </tbody>\n",
       "</table>\n",
       "</div>"
      ],
      "text/plain": [
       "   cont_purchase  test_purchase\n",
       "0     665.211255     702.160346\n",
       "1     315.084895     834.054286\n",
       "2     458.083738     422.934258\n",
       "3     487.090773     429.033535\n",
       "4     441.034050     749.860442"
      ]
     },
     "execution_count": 9,
     "metadata": {},
     "output_type": "execute_result"
    }
   ],
   "source": [
    "df.head()"
   ]
  },
  {
   "cell_type": "code",
   "execution_count": 10,
   "id": "df897ef2-5892-4de4-a370-7726236ea91b",
   "metadata": {},
   "outputs": [
    {
     "data": {
      "text/html": [
       "<div>\n",
       "<style scoped>\n",
       "    .dataframe tbody tr th:only-of-type {\n",
       "        vertical-align: middle;\n",
       "    }\n",
       "\n",
       "    .dataframe tbody tr th {\n",
       "        vertical-align: top;\n",
       "    }\n",
       "\n",
       "    .dataframe thead th {\n",
       "        text-align: right;\n",
       "    }\n",
       "</style>\n",
       "<table border=\"1\" class=\"dataframe\">\n",
       "  <thead>\n",
       "    <tr style=\"text-align: right;\">\n",
       "      <th></th>\n",
       "      <th>count</th>\n",
       "      <th>mean</th>\n",
       "      <th>std</th>\n",
       "      <th>min</th>\n",
       "      <th>25%</th>\n",
       "      <th>50%</th>\n",
       "      <th>75%</th>\n",
       "      <th>max</th>\n",
       "    </tr>\n",
       "  </thead>\n",
       "  <tbody>\n",
       "    <tr>\n",
       "      <th>cont_purchase</th>\n",
       "      <td>40.0</td>\n",
       "      <td>550.894059</td>\n",
       "      <td>134.108201</td>\n",
       "      <td>267.028943</td>\n",
       "      <td>470.095533</td>\n",
       "      <td>531.206307</td>\n",
       "      <td>637.957088</td>\n",
       "      <td>801.79502</td>\n",
       "    </tr>\n",
       "    <tr>\n",
       "      <th>test_purchase</th>\n",
       "      <td>40.0</td>\n",
       "      <td>582.106097</td>\n",
       "      <td>161.152513</td>\n",
       "      <td>311.629515</td>\n",
       "      <td>444.626828</td>\n",
       "      <td>551.355732</td>\n",
       "      <td>699.862360</td>\n",
       "      <td>889.91046</td>\n",
       "    </tr>\n",
       "  </tbody>\n",
       "</table>\n",
       "</div>"
      ],
      "text/plain": [
       "               count        mean         std         min         25%  \\\n",
       "cont_purchase   40.0  550.894059  134.108201  267.028943  470.095533   \n",
       "test_purchase   40.0  582.106097  161.152513  311.629515  444.626828   \n",
       "\n",
       "                      50%         75%        max  \n",
       "cont_purchase  531.206307  637.957088  801.79502  \n",
       "test_purchase  551.355732  699.862360  889.91046  "
      ]
     },
     "execution_count": 10,
     "metadata": {},
     "output_type": "execute_result"
    }
   ],
   "source": [
    "df.describe().T"
   ]
  },
  {
   "cell_type": "code",
   "execution_count": 14,
   "id": "6804e426-af7d-4d05-b21d-74e26b6e36b0",
   "metadata": {},
   "outputs": [],
   "source": [
    "#Hipotez = \n",
    "#H0: M1 = M2 Test ve Kontrol gruplarının purchase ortalamaları arasında  anlamlı bir farklılık bulunmamaktadır\n",
    "#H1: M1 != M2 Test ve Kontrol gruplarının purchase ortalamaları arasında anlamlı bir farklılık bulunmaktadır. \n"
   ]
  },
  {
   "cell_type": "code",
   "execution_count": 12,
   "id": "ab0c76db-f573-4fd6-95fd-3bda4ccc8267",
   "metadata": {},
   "outputs": [
    {
     "data": {
      "text/plain": [
       "550.8940587702316"
      ]
     },
     "execution_count": 12,
     "metadata": {},
     "output_type": "execute_result"
    }
   ],
   "source": [
    "#Control Purchase Mean \n",
    "df[\"cont_purchase\"].mean()"
   ]
  },
  {
   "cell_type": "code",
   "execution_count": 13,
   "id": "c9cbfc1d-1738-410d-ba8b-7b9d7145e2de",
   "metadata": {},
   "outputs": [
    {
     "data": {
      "text/plain": [
       "582.1060966484677"
      ]
     },
     "execution_count": 13,
     "metadata": {},
     "output_type": "execute_result"
    }
   ],
   "source": [
    "#Test Purchase Mean \n",
    "df[\"test_purchase\"].mean()"
   ]
  },
  {
   "cell_type": "code",
   "execution_count": 15,
   "id": "82143196-6cca-4a4a-8406-de8a8ba4e3f3",
   "metadata": {},
   "outputs": [],
   "source": [
    "#Test gurubunun satın alımı ortalama olarak daha yüksek çıkmıştır. "
   ]
  },
  {
   "cell_type": "code",
   "execution_count": 16,
   "id": "78d2aad9-5977-439f-b086-1d15c92906a7",
   "metadata": {},
   "outputs": [],
   "source": [
    "#Varsayım Kontrolleri "
   ]
  },
  {
   "cell_type": "code",
   "execution_count": 17,
   "id": "b62b9922-cebd-4225-aac0-30d8bfa53d59",
   "metadata": {},
   "outputs": [],
   "source": [
    "#Normallik Varsayımı \n",
    "#H0: Normal dağılım varsayımı sağlanmaktadır. \n",
    "#H1: Normal dağılım varsayımı sağlanmamaktadır.\n",
    "#p < 0.05 H0 RED , p > 0.05 H0 REDDEDİLEMEZ\n",
    "#Test sonucuna göre normallik varsayımı kontrol ve test grupları için sağlanıyor mu ? Elde edilen p-valuedeğerlerini yorumlayınız."
   ]
  },
  {
   "cell_type": "code",
   "execution_count": 18,
   "id": "ca24d8cb-257c-4d03-9dda-7edb4a7d82ed",
   "metadata": {},
   "outputs": [
    {
     "name": "stdout",
     "output_type": "stream",
     "text": [
      "Test stat = 0.9773, p-value = 0.5891\n"
     ]
    }
   ],
   "source": [
    "#Kontrol grubunun Normallik Varsayımı\n",
    "test_stat, pvalue = shapiro(df[\"cont_purchase\"].dropna())\n",
    "print('Test stat = %.4f, p-value = %.4f' % (test_stat,pvalue)) "
   ]
  },
  {
   "cell_type": "code",
   "execution_count": 19,
   "id": "40c3f912-9c5d-4d1c-aaf1-f6b13378e45c",
   "metadata": {},
   "outputs": [
    {
     "name": "stdout",
     "output_type": "stream",
     "text": [
      "Test stat = 0.9589, p-value = 0.1541\n"
     ]
    }
   ],
   "source": [
    "#Test Grubunun Normallik Varsayımı\n",
    "test_stat, pvalue = shapiro(df[\"test_purchase\"].dropna())\n",
    "print('Test stat = %.4f, p-value = %.4f' % (test_stat,pvalue)) "
   ]
  },
  {
   "cell_type": "code",
   "execution_count": 20,
   "id": "c1d1f858-5030-4ef1-aa9b-a33c3f08b1b1",
   "metadata": {},
   "outputs": [],
   "source": [
    "#Kontrol Grubunun normallik varsayımına göre p value değeri 0.58 çıkmıştır. p >0.05 olduğundan H0 Reddedilemez ve Normal Dağılmıştır\n",
    "#Test Grubunun Normallik varsayımına göre p value değeri 0.1541 çıkmıştır. p > 0.05 olduğundan H0 Reddedilemez ve Normal Dağılmıştır "
   ]
  },
  {
   "cell_type": "code",
   "execution_count": 21,
   "id": "cc789d0a-ecaf-48c5-b4fb-6530b3fb37f2",
   "metadata": {},
   "outputs": [],
   "source": [
    "#VaryansHomojenliği :\n",
    "#H0: Varyanslarhomojendir.\n",
    "#H1: Varyanslarhomojen Değildir.\n",
    "#p < 0.05 H0 RED , p > 0.05 H0 REDDEDİLEMEZ \n",
    "#Kontrol ve test grubu için varyanshomojenliğinin sağlanıp sağlanmadığını Purchasedeğişkeni üzerinden test ediniz. Test sonucuna göre normallik varsayımı sağlanıyor mu? Elde edilen p-valuedeğerlerini yorumlayınız."
   ]
  },
  {
   "cell_type": "code",
   "execution_count": 22,
   "id": "e587145a-4547-4631-ae48-a7bd388f0fff",
   "metadata": {},
   "outputs": [
    {
     "name": "stdout",
     "output_type": "stream",
     "text": [
      "Test stat = 2.6393, p-value = 0.1083\n"
     ]
    }
   ],
   "source": [
    "test_stat,pvalue = levene(df[\"test_purchase\"].dropna(),df[\"cont_purchase\"].dropna())\n",
    "\n",
    "print('Test stat = %.4f, p-value = %.4f' % (test_stat,pvalue))"
   ]
  },
  {
   "cell_type": "code",
   "execution_count": 23,
   "id": "0b6c3ae3-3df4-4b8f-9d1b-087595285b0d",
   "metadata": {},
   "outputs": [],
   "source": [
    "#Kontrol ve Test Grubunun Homojenlik varsayımına göre p value değeri 0.1083 çıkmıştır. p > 0.05 olduğundan H0 Reddedilemez ve Varyanslar Homojendir. \n"
   ]
  },
  {
   "cell_type": "code",
   "execution_count": 26,
   "id": "a8d27a12-81ac-411a-9301-6391d570d742",
   "metadata": {},
   "outputs": [],
   "source": [
    "#Seçilen Test = Bağımsız iki örneklem T testi. Varyanslık ve Normallik varsayımları sağlanmıştır. "
   ]
  },
  {
   "cell_type": "code",
   "execution_count": 29,
   "id": "a9da2791-4a37-4334-bca1-69bc47837210",
   "metadata": {},
   "outputs": [
    {
     "name": "stdout",
     "output_type": "stream",
     "text": [
      "Test stat = 0.9416, p-value = 0.3493\n"
     ]
    }
   ],
   "source": [
    "#Hipotez = \n",
    "#H0: M1 = M2 Test ve Kontrol gruplarının purchase ortalamaları arasında  anlamlı bir farklılık bulunmamaktadır\n",
    "#H1: M1 != M2 Test ve Kontrol gruplarının purchase ortalamaları arasında anlamlı bir farklılık bulunmaktadır. \n",
    " \n",
    "test_stat, pvalue = ttest_ind(df[\"test_purchase\"].dropna(),df[\"cont_purchase\"].dropna(), equal_var = True)\n",
    "print('Test stat = %.4f, p-value = %.4f' % (test_stat,pvalue))"
   ]
  },
  {
   "cell_type": "code",
   "execution_count": 30,
   "id": "212bad14-3f74-4ae9-b346-28195fa1f0be",
   "metadata": {},
   "outputs": [],
   "source": [
    "#H0 REDDEDİLEMEZ, p value değeri 0.3493 çıkmıştır ve 0.05 değerinden büyüktür. Dolayısıyla, \n",
    "#Test ve Kontrol gruplarının purchase ortalamaları arasında  anlamlı bir farklılık bulunmamaktadır\n"
   ]
  },
  {
   "cell_type": "code",
   "execution_count": 33,
   "id": "2aed6368-ca1c-4143-8307-da3d98990fc5",
   "metadata": {},
   "outputs": [],
   "source": [
    "#Yapılan istatistik testleri sonucunda Test ve Kontrol gruplarının purchase ortalamaları arasında  anlamlı bir farklılık bulunmamaktadır.\n",
    "#Satın alma oranlarının arasında ortalamada bulunan fark şans eseri oluşmuştur. Bilimsel bir geçerliliği olmadığı ortaya çıkmıştır. \n",
    "#Dolayısıyla Maximum Bidding kullanılmaya devam edilmeliydi, iş gücü daha iyi bir yere aktarılmalı. Ya da kullanıcıların profili daha iyi okunup, ona göre\n",
    "#bidding yönteminde farklı değişikliklere gidilmeli. "
   ]
  },
  {
   "cell_type": "code",
   "execution_count": null,
   "id": "6e212730-0996-4c6d-b0b9-596aab6d91c0",
   "metadata": {},
   "outputs": [],
   "source": []
  }
 ],
 "metadata": {
  "kernelspec": {
   "display_name": "Python 3 (ipykernel)",
   "language": "python",
   "name": "python3"
  },
  "language_info": {
   "codemirror_mode": {
    "name": "ipython",
    "version": 3
   },
   "file_extension": ".py",
   "mimetype": "text/x-python",
   "name": "python",
   "nbconvert_exporter": "python",
   "pygments_lexer": "ipython3",
   "version": "3.9.12"
  }
 },
 "nbformat": 4,
 "nbformat_minor": 5
}
